{
 "cells": [
  {
   "cell_type": "code",
   "execution_count": 17,
   "metadata": {},
   "outputs": [],
   "source": [
    "import scanpy as sc\n",
    "import numpy as np\n",
    "import scvelo as scv\n",
    "import anndata as ad\n",
    "import os\n",
    "import matplotlib.pyplot as plt\n",
    "import pandas as pd\n",
    "from collections import Counter\n",
    "from pathlib import Path\n",
    "import re\n",
    "from scipy.sparse import issparse\n",
    "from scipy import sparse as sp"
   ]
  },
  {
   "cell_type": "code",
   "execution_count": 18,
   "metadata": {},
   "outputs": [],
   "source": [
    "loom_hfd = sc.read(\"/gpfsdata/home/renyixiang/SRTP/DeepVelo/vgMG_HFD/velocyto/vgMG_HFD.loom\")\n",
    "loom_nd  = sc.read(\"/gpfsdata/home/renyixiang/SRTP/DeepVelo/vgMG_ND/velocyto/vgMG_ND.loom\")"
   ]
  },
  {
   "cell_type": "code",
   "execution_count": null,
   "metadata": {},
   "outputs": [],
   "source": [
    "ND_anndata = sc.read_h5ad(\"/gpfsdata/home/renyixiang/SRTP/DeepVelo/ND_lumhorm.h5ad\")\n",
    "HFD_anndata = sc.read_h5ad(\"/gpfsdata/home/renyixiang/SRTP/DeepVelo/HFD_lumhorm.h5ad\")"
   ]
  },
  {
   "cell_type": "code",
   "execution_count": 4,
   "metadata": {},
   "outputs": [
    {
     "name": "stdout",
     "output_type": "stream",
     "text": [
      "ND h5ad (head): ['ND_AAACGAATCGGCCTTT-1', 'ND_AAACGCTCATTGTCGA-1', 'ND_AAAGAACGTCTACGTA-1', 'ND_AAAGGGCGTAGAGGAA-1', 'ND_AAAGTGATCATTTGGG-1', 'ND_AAATGGAGTACAGAAT-1', 'ND_AACAACCAGAAACTCA-1', 'ND_AACCAACTCGGTGCAC-1']\n",
      "ND loom  (head): [np.str_('vgMG_ND:AAACGCTAGGTATAGTx'), np.str_('vgMG_ND:AAACGCTTCGCTTACCx'), np.str_('vgMG_ND:AACAAAGAGCCACAAGx'), np.str_('vgMG_ND:AAACGAATCGGCCTTTx'), np.str_('vgMG_ND:AAAGGGCTCTCCATATx'), np.str_('vgMG_ND:AAACGCTAGTAGAGTTx'), np.str_('vgMG_ND:AAAGGATCAGGTTTACx'), np.str_('vgMG_ND:AAACGAATCTCACTCGx')]\n",
      "HFD h5ad (head): ['HFD_AAAGGGCAGCAGGCAT-1', 'HFD_AACAAAGGTGGTTCTA-1', 'HFD_AACAAGAAGCGTTAGG-1', 'HFD_AACGAAATCACAAGGG-1', 'HFD_AACGGGACATCCGGCA-1', 'HFD_AAGAACACATGACTAC-1', 'HFD_AAGACAAAGGAACGTC-1', 'HFD_AAGATAGTCTTCTGTA-1']\n",
      "HFD loom  (head): [np.str_('vgMG_HFD:AAACGCTAGCGAGTACx'), np.str_('vgMG_HFD:AAAGGGCAGAGCACTGx'), np.str_('vgMG_HFD:AACAAAGCACTGCGTGx'), np.str_('vgMG_HFD:AAAGGGCCAGTATTCGx'), np.str_('vgMG_HFD:AAAGTGAGTGATTAGAx'), np.str_('vgMG_HFD:AAAGGATTCATGCCAAx'), np.str_('vgMG_HFD:AAATGGACAATTCGTGx'), np.str_('vgMG_HFD:AAATGGAGTCCGGTCAx')]\n"
     ]
    }
   ],
   "source": [
    "print(\"ND h5ad (head):\", list(ND_anndata.obs_names[:8]))\n",
    "print(\"ND loom  (head):\", list(loom_nd.obs_names[:8]))\n",
    "print(\"HFD h5ad (head):\", list(HFD_anndata.obs_names[:8]))\n",
    "print(\"HFD loom  (head):\", list(loom_hfd.obs_names[:8]))"
   ]
  },
  {
   "cell_type": "code",
   "execution_count": null,
   "metadata": {},
   "outputs": [],
   "source": [
    "import numpy as np\n",
    "import pandas as pd\n",
    "import scipy.sparse as sp\n",
    "import scvelo as scv\n",
    "\n",
    "\n",
    "def normalize_barcodes(index, keep=16):\n",
    "    \"\"\"Standardize cell barcodes, remove 'vgMG_ND:' prefix, remove trailing 'x' and truncate to specified length.\"\"\"\n",
    "    s = pd.Index(index.astype(str))\n",
    "    s = s.str.replace(r'^[^:]*:', '', regex=True)  # Remove 'vgMG_ND:' or 'vgMG_HFD:' prefix\n",
    "    s = s.str.replace(r'x$', '', regex=True)     # Remove trailing 'x'\n",
    "    if keep is not None:\n",
    "        s = s.str.slice(0, keep)                  # Truncate to the specified length (default 16)\n",
    "    return s\n",
    "\n",
    "\n",
    "\n",
    "def make_unique_on_norm(ad, keep=16):\n",
    "    ad = ad.copy()\n",
    "    ad.obs[\"barcode_raw\"] = ad.obs_names.astype(str)\n",
    "    ad.obs[\"barcode_norm\"] = normalize_barcodes(ad.obs_names, keep=keep)\n",
    "\n",
    "    if ad.n_obs != ad.obs[\"barcode_norm\"].nunique():\n",
    "        if sp.issparse(ad.X):\n",
    "            totals = np.asarray(ad.X.sum(axis=1)).ravel()\n",
    "        else:\n",
    "            totals = ad.X.sum(axis=1)\n",
    "        tmp = pd.DataFrame({\n",
    "            \"barcode_norm\": ad.obs[\"barcode_norm\"].values,\n",
    "            \"row\": np.arange(ad.n_obs),\n",
    "            \"totals\": totals\n",
    "        })\n",
    "        keep_rows = (\n",
    "            tmp.sort_values([\"barcode_norm\", \"totals\"], ascending=[True, False])\n",
    "               .drop_duplicates(\"barcode_norm\")[\"row\"]\n",
    "               .to_numpy()\n",
    "        )\n",
    "        ad = ad[keep_rows].copy()\n",
    "    ad.obs_names = ad.obs[\"barcode_norm\"].astype(str)\n",
    "    assert ad.obs_names.is_unique, \"obs_names should be unique now\"\n",
    "    return ad\n",
    "\n",
    "\n",
    "HFD_anndata = make_unique_on_norm(HFD_anndata, keep=16)\n",
    "HFD_ldata = make_unique_on_norm(loom_hfd, keep=16)\n",
    "ND_anndata = make_unique_on_norm(ND_anndata, keep=16)\n",
    "ND_ldata = make_unique_on_norm(loom_nd, keep=16)\n",
    "\n",
    "HFD_anndata = scv.utils.merge(HFD_anndata, HFD_ldata)\n",
    "ND_anndata = scv.utils.merge(ND_anndata,ND_ldata)\n",
    "\n"
   ]
  },
  {
   "cell_type": "code",
   "execution_count": 21,
   "metadata": {},
   "outputs": [
    {
     "name": "stdout",
     "output_type": "stream",
     "text": [
      "Filtered out 19342 genes that are detected 20 counts (shared).\n",
      "WARNING: Did not normalize X as it looks processed already. To enforce normalization, set `enforce=True`.\n",
      "Normalized count data: spliced, unspliced.\n",
      "Extracted 2000 highly variable genes.\n",
      "Logarithmized X.\n"
     ]
    },
    {
     "name": "stderr",
     "output_type": "stream",
     "text": [
      "/gpfsdata/home/renyixiang/miniconda3/envs/deepvelo/lib/python3.10/site-packages/scvelo/preprocessing/utils.py:705: DeprecationWarning: `log1p` is deprecated since scVelo v0.3.0 and will be removed in a future version. Please use `log1p` from `scanpy.pp` instead.\n",
      "  log1p(adata)\n",
      "/gpfsdata/home/renyixiang/miniconda3/envs/deepvelo/lib/python3.10/site-packages/scvelo/preprocessing/utils.py:705: DeprecationWarning: `log1p` is deprecated since scVelo v0.3.0 and will be removed in a future version. Please use `log1p` from `scanpy.pp` instead.\n",
      "  log1p(adata)\n",
      "/tmp/ipykernel_162286/869910452.py:3: DeprecationWarning: Automatic neighbor calculation is deprecated since scvelo==0.4.0 and will be removed in a future version of scVelo. Please compute neighbors first with Scanpy.\n",
      "  scv.pp.moments(ND_anndata, n_pcs=30, n_neighbors=30)\n",
      "/gpfsdata/home/renyixiang/miniconda3/envs/deepvelo/lib/python3.10/site-packages/scvelo/preprocessing/moments.py:71: DeprecationWarning: `neighbors` is deprecated since scvelo==0.4.0 and will be removed in a future version of scVelo. Please compute neighbors with Scanpy.\n",
      "  neighbors(\n"
     ]
    },
    {
     "name": "stdout",
     "output_type": "stream",
     "text": [
      "Filtered out 20541 genes that are detected 20 counts (shared).\n",
      "WARNING: Did not normalize X as it looks processed already. To enforce normalization, set `enforce=True`.\n",
      "Normalized count data: spliced, unspliced.\n",
      "Extracted 2000 highly variable genes.\n",
      "Logarithmized X.\n",
      "computing neighbors\n",
      "    finished (0:00:00) --> added \n",
      "    'distances' and 'connectivities', weighted adjacency matrices (adata.obsp)\n",
      "computing moments based on connectivities\n",
      "    finished (0:00:00) --> added \n",
      "    'Ms' and 'Mu', moments of un/spliced abundances (adata.layers)\n",
      "computing neighbors\n",
      "    finished (0:00:00) --> added \n",
      "    'distances' and 'connectivities', weighted adjacency matrices (adata.obsp)\n",
      "computing moments based on connectivities\n",
      "    finished (0:00:00) --> added \n",
      "    'Ms' and 'Mu', moments of un/spliced abundances (adata.layers)\n"
     ]
    },
    {
     "name": "stderr",
     "output_type": "stream",
     "text": [
      "/tmp/ipykernel_162286/869910452.py:4: DeprecationWarning: Automatic neighbor calculation is deprecated since scvelo==0.4.0 and will be removed in a future version of scVelo. Please compute neighbors first with Scanpy.\n",
      "  scv.pp.moments(HFD_anndata, n_pcs=30, n_neighbors=30)\n",
      "/gpfsdata/home/renyixiang/miniconda3/envs/deepvelo/lib/python3.10/site-packages/scvelo/preprocessing/moments.py:71: DeprecationWarning: `neighbors` is deprecated since scvelo==0.4.0 and will be removed in a future version of scVelo. Please compute neighbors with Scanpy.\n",
      "  neighbors(\n"
     ]
    }
   ],
   "source": [
    "scv.pp.filter_and_normalize(ND_anndata, min_shared_counts=20, n_top_genes=2000)\n",
    "scv.pp.filter_and_normalize(HFD_anndata, min_shared_counts=20, n_top_genes=2000)\n",
    "scv.pp.moments(ND_anndata, n_pcs=30, n_neighbors=30)\n",
    "scv.pp.moments(HFD_anndata, n_pcs=30, n_neighbors=30)"
   ]
  },
  {
   "cell_type": "code",
   "execution_count": null,
   "metadata": {},
   "outputs": [],
   "source": [
    "scv.tl.recover_dynamics(ND_anndata,n_jobs=24)\n",
    "scv.tl.velocity(ND_anndata, mode = \"dynamical\")"
   ]
  },
  {
   "cell_type": "code",
   "execution_count": null,
   "metadata": {},
   "outputs": [],
   "source": [
    "scv.tl.recover_dynamics(HFD_anndata,n_jobs=24)\n",
    "scv.tl.velocity(HFD_anndata, mode = \"dynamical\")"
   ]
  },
  {
   "cell_type": "code",
   "execution_count": null,
   "metadata": {},
   "outputs": [],
   "source": [
    "genes = ND_anndata.var_names\n",
    "cells = ND_anndata.obs_names\n",
    "\n",
    "for layer in [\"spliced\", \"unspliced\", \"ambiguous\", \"Ms\", \"Mu\", \"velocity\"]:\n",
    "    if layer in ND_anndata.layers:\n",
    "        M = ND_anndata.layers[layer]\n",
    "        if sp.issparse(M):\n",
    "            M = M.toarray()\n",
    "        ND_anndata.layers[layer] = np.asarray(M, dtype=np.float32)\n",
    "        assert ND_anndata.layers[layer].shape == (len(cells), len(genes)), f\"{layer} shape mismatch\"\n",
    "\n",
    "if sp.issparse(ND_anndata.X):\n",
    "    ND_anndata.X = ND_anndata.X.toarray()\n",
    "ND_anndata.X = np.asarray(ND_anndata.X, dtype=np.float32)\n",
    "assert ND_anndata.X.shape == (len(cells), len(genes))\n",
    "\n",
    "scv.tl.velocity_graph(ND_anndata, n_jobs=16)"
   ]
  },
  {
   "cell_type": "code",
   "execution_count": null,
   "metadata": {},
   "outputs": [],
   "source": [
    "genes = HFD_anndata.var_names\n",
    "cells = HFD_anndata.obs_names\n",
    "\n",
    "for layer in [\"spliced\", \"unspliced\", \"ambiguous\", \"Ms\", \"Mu\", \"velocity\"]:\n",
    "    if layer in HFD_anndata.layers:\n",
    "        M = HFD_anndata.layers[layer]\n",
    "        if sp.issparse(M):\n",
    "            M = M.toarray()\n",
    "        HFD_anndata.layers[layer] = np.asarray(M, dtype=np.float32)\n",
    "        assert HFD_anndata.layers[layer].shape == (len(cells), len(genes)), f\"{layer} shape mismatch\"\n",
    "\n",
    "if sp.issparse(HFD_anndata.X):\n",
    "    HFD_anndata.X = HFD_anndata.X.toarray()\n",
    "HFD_anndata.X = np.asarray(HFD_anndata.X, dtype=np.float32)\n",
    "assert HFD_anndata.X.shape == (len(cells), len(genes))\n",
    "\n",
    "scv.tl.velocity_graph(HFD_anndata, n_jobs=16)"
   ]
  },
  {
   "cell_type": "code",
   "execution_count": null,
   "metadata": {},
   "outputs": [],
   "source": [
    "ND_anndata.obs[\"cell_type\"] = pd.Categorical(ND_anndata.obs[\"cell_type\"])\n",
    "\n",
    "cats = ND_anndata.obs[\"cell_type\"].cat.categories\n",
    "palette = dict(zip(cats, sc.pl.palettes.default_20[:len(cats)]))\n",
    "ND_anndata.uns[\"cell_type_colors\"] = [palette[c] for c in cats]\n",
    "\n",
    "umap_coords = ND_anndata.obsm['X_umap']\n",
    "x_min, x_max = umap_coords[:, 0].min(), umap_coords[:, 0].max()\n",
    "y_min, y_max = umap_coords[:, 1].min(), umap_coords[:, 1].max()\n",
    "\n",
    "x_margin = (x_max - x_min) * 0.1\n",
    "y_margin = (y_max - y_min) * 0.1\n",
    "\n",
    "ax = scv.pl.velocity_embedding_stream(\n",
    "    ND_anndata,\n",
    "    basis=\"umap\",\n",
    "    color=\"skyblue\",\n",
    "    dpi=200,\n",
    "    show=False,\n",
    "    xlim=(x_min - x_margin, x_max + x_margin),\n",
    "    ylim=(y_min - y_margin, y_max + y_margin),\n",
    "    legend_loc='right margin',\n",
    "    size=80,\n",
    "    alpha=0.8\n",
    ")\n",
    "\n",
    "ax.set_xlabel(\"UMAP1\")\n",
    "ax.set_ylabel(\"UMAP2\")\n",
    "ax.set_xticks(ax.get_xticks())\n",
    "ax.set_yticks(ax.get_yticks())\n",
    "ax.tick_params(direction=\"out\")\n",
    "\n",
    "outdir = \"/gpfsdata/home/renyixiang/SRTP/DeepVelo\"\n",
    "os.makedirs(outdir, exist_ok=True)\n",
    "outfile = os.path.join(outdir, \"ND_basal_velocity.png\")\n",
    "plt.savefig(outfile, format=\"png\", dpi=300, bbox_inches=\"tight\")\n",
    "\n",
    "plt.show()\n",
    "print(f\"✅ Save to: {outfile}\")\n"
   ]
  },
  {
   "cell_type": "code",
   "execution_count": null,
   "metadata": {},
   "outputs": [],
   "source": [
    "HFD_anndata.obs[\"cell_type\"] = pd.Categorical(HFD_anndata.obs[\"cell_type\"])\n",
    "\n",
    "cats = HFD_anndata.obs[\"cell_type\"].cat.categories\n",
    "palette = dict(zip(cats, sc.pl.palettes.default_20[:len(cats)]))\n",
    "HFD_anndata.uns[\"cell_type_colors\"] = [palette[c] for c in cats]\n",
    "\n",
    "umap_coords = HFD_anndata.obsm['X_umap']\n",
    "x_min, x_max = umap_coords[:, 0].min(), umap_coords[:, 0].max()\n",
    "y_min, y_max = umap_coords[:, 1].min(), umap_coords[:, 1].max()\n",
    "\n",
    "x_margin = (x_max - x_min) * 0.1\n",
    "y_margin = (y_max - y_min) * 0.1\n",
    "\n",
    "ax = scv.pl.velocity_embedding_stream(\n",
    "    HFD_anndata,\n",
    "    basis=\"umap\",\n",
    "    color=\"skyblue\",\n",
    "    dpi=200,\n",
    "    show=False,\n",
    "    xlim=(x_min - x_margin, x_max + x_margin),\n",
    "    ylim=(y_min - y_margin, y_max + y_margin),\n",
    "    legend_loc='right margin',\n",
    "    size=80,\n",
    "    alpha=0.8\n",
    ")\n",
    "\n",
    "ax.set_xlabel(\"UMAP1\")\n",
    "ax.set_ylabel(\"UMAP2\")\n",
    "ax.set_xticks(ax.get_xticks())\n",
    "ax.set_yticks(ax.get_yticks())\n",
    "ax.tick_params(direction=\"out\")\n",
    "\n",
    "outdir = \"/gpfsdata/home/renyixiang/SRTP/DeepVelo\"\n",
    "os.makedirs(outdir, exist_ok=True)\n",
    "outfile = os.path.join(outdir, \"HFD_basal_velocity.png\")\n",
    "plt.savefig(outfile, format=\"png\", dpi=300, bbox_inches=\"tight\")\n",
    "\n",
    "plt.show()\n",
    "print(f\"✅ Save to : {outfile}\")\n"
   ]
  }
 ],
 "metadata": {
  "kernelspec": {
   "display_name": "Python (deepvelo)",
   "language": "python",
   "name": "deepvelo"
  },
  "language_info": {
   "codemirror_mode": {
    "name": "ipython",
    "version": 3
   },
   "file_extension": ".py",
   "mimetype": "text/x-python",
   "name": "python",
   "nbconvert_exporter": "python",
   "pygments_lexer": "ipython3",
   "version": "3.10.8"
  }
 },
 "nbformat": 4,
 "nbformat_minor": 4
}
